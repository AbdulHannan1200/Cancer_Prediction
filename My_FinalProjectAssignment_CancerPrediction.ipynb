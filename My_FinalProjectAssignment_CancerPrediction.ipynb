{
 "cells": [
  {
   "cell_type": "markdown",
   "metadata": {},
   "source": [
    "# Final Project\n",
    "\n",
    "## Predict whether a mammogram mass is benign or malignant\n",
    "\n",
    "We'll be using the \"mammographic masses\" public dataset from the UCI repository (source: https://archive.ics.uci.edu/ml/datasets/Mammographic+Mass)\n",
    "\n",
    "This data contains 961 instances of masses detected in mammograms, and contains the following attributes:\n",
    "\n",
    "\n",
    "   1. BI-RADS assessment: 1 to 5 (ordinal)  \n",
    "   2. Age: patient's age in years (integer)\n",
    "   3. Shape: mass shape: round=1 oval=2 lobular=3 irregular=4 (nominal)\n",
    "   4. Margin: mass margin: circumscribed=1 microlobulated=2 obscured=3 ill-defined=4 spiculated=5 (nominal)\n",
    "   5. Density: mass density high=1 iso=2 low=3 fat-containing=4 (ordinal)\n",
    "   6. Severity: benign=0 or malignant=1 (binominal)\n",
    "   \n",
    "BI-RADS is an assesment of how confident the severity classification is; it is not a \"predictive\" attribute and so we will discard it. The age, shape, margin, and density attributes are the features that we will build our model with, and \"severity\" is the classification we will attempt to predict based on those attributes.\n",
    "\n",
    "Although \"shape\" and \"margin\" are nominal data types, which sklearn typically doesn't deal with well, they are close enough to ordinal that we shouldn't just discard them. The \"shape\" for example is ordered increasingly from round to irregular.\n",
    "\n",
    "A lot of unnecessary anguish and surgery arises from false positives arising from mammogram results. If we can build a better way to interpret them through supervised machine learning, it could improve a lot of lives.\n",
    "\n",
    "## Your assignment\n",
    "\n",
    "Apply several different supervised machine learning techniques to this data set, and see which one yields the highest accuracy as measured with K-Fold cross validation (K=10). Apply:\n",
    "\n",
    "* Decision tree\n",
    "* Random forest\n",
    "* KNN\n",
    "* Naive Bayes\n",
    "* SVM\n",
    "* Logistic Regression\n",
    "* And, as a bonus challenge, a neural network using Keras.\n",
    "\n",
    "The data needs to be cleaned; many rows contain missing data, and there may be erroneous data identifiable as outliers as well.\n",
    "\n",
    "Remember some techniques such as SVM also require the input data to be normalized first.\n",
    "\n",
    "Many techniques also have \"hyperparameters\" that need to be tuned. Once you identify a promising approach, see if you can make it even better by tuning its hyperparameters.\n",
    "\n",
    "I was able to achieve over 80% accuracy - can you beat that?\n",
    "\n",
    "Below I've set up an outline of a notebook for this project, with some guidance and hints. If you're up for a real challenge, try doing this project from scratch in a new, clean notebook!\n"
   ]
  },
  {
   "cell_type": "markdown",
   "metadata": {},
   "source": [
    "## Let's begin: prepare your data\n",
    "\n",
    "Start by importing the mammographic_masses.data.txt file into a Pandas dataframe (hint: use read_csv) and take a look at it."
   ]
  },
  {
   "cell_type": "code",
   "execution_count": 1,
   "metadata": {},
   "outputs": [
    {
     "data": {
      "text/html": [
       "<div>\n",
       "<style scoped>\n",
       "    .dataframe tbody tr th:only-of-type {\n",
       "        vertical-align: middle;\n",
       "    }\n",
       "\n",
       "    .dataframe tbody tr th {\n",
       "        vertical-align: top;\n",
       "    }\n",
       "\n",
       "    .dataframe thead th {\n",
       "        text-align: right;\n",
       "    }\n",
       "</style>\n",
       "<table border=\"1\" class=\"dataframe\">\n",
       "  <thead>\n",
       "    <tr style=\"text-align: right;\">\n",
       "      <th></th>\n",
       "      <th>5</th>\n",
       "      <th>67</th>\n",
       "      <th>3</th>\n",
       "      <th>5.1</th>\n",
       "      <th>3.1</th>\n",
       "      <th>1</th>\n",
       "    </tr>\n",
       "  </thead>\n",
       "  <tbody>\n",
       "    <tr>\n",
       "      <th>0</th>\n",
       "      <td>4.0</td>\n",
       "      <td>43.0</td>\n",
       "      <td>1.0</td>\n",
       "      <td>1.0</td>\n",
       "      <td>NaN</td>\n",
       "      <td>1</td>\n",
       "    </tr>\n",
       "    <tr>\n",
       "      <th>1</th>\n",
       "      <td>5.0</td>\n",
       "      <td>58.0</td>\n",
       "      <td>4.0</td>\n",
       "      <td>5.0</td>\n",
       "      <td>3.0</td>\n",
       "      <td>1</td>\n",
       "    </tr>\n",
       "    <tr>\n",
       "      <th>2</th>\n",
       "      <td>4.0</td>\n",
       "      <td>28.0</td>\n",
       "      <td>1.0</td>\n",
       "      <td>1.0</td>\n",
       "      <td>3.0</td>\n",
       "      <td>0</td>\n",
       "    </tr>\n",
       "    <tr>\n",
       "      <th>3</th>\n",
       "      <td>5.0</td>\n",
       "      <td>74.0</td>\n",
       "      <td>1.0</td>\n",
       "      <td>5.0</td>\n",
       "      <td>NaN</td>\n",
       "      <td>1</td>\n",
       "    </tr>\n",
       "    <tr>\n",
       "      <th>4</th>\n",
       "      <td>4.0</td>\n",
       "      <td>65.0</td>\n",
       "      <td>1.0</td>\n",
       "      <td>NaN</td>\n",
       "      <td>3.0</td>\n",
       "      <td>0</td>\n",
       "    </tr>\n",
       "  </tbody>\n",
       "</table>\n",
       "</div>"
      ],
      "text/plain": [
       "     5    67    3  5.1  3.1  1\n",
       "0  4.0  43.0  1.0  1.0  NaN  1\n",
       "1  5.0  58.0  4.0  5.0  3.0  1\n",
       "2  4.0  28.0  1.0  1.0  3.0  0\n",
       "3  5.0  74.0  1.0  5.0  NaN  1\n",
       "4  4.0  65.0  1.0  NaN  3.0  0"
      ]
     },
     "execution_count": 1,
     "metadata": {},
     "output_type": "execute_result"
    }
   ],
   "source": [
    "import pandas as pd\n",
    "df=pd.read_csv('mammographic_masses.data.txt',na_values=['?'])\n",
    "df.head()"
   ]
  },
  {
   "cell_type": "markdown",
   "metadata": {},
   "source": [
    "Make sure you use the optional parmaters in read_csv to convert missing data (indicated by a ?) into NaN, and to add the appropriate column names (BI_RADS, age, shape, margin, density, and severity):"
   ]
  },
  {
   "cell_type": "code",
   "execution_count": 2,
   "metadata": {},
   "outputs": [
    {
     "data": {
      "text/html": [
       "<div>\n",
       "<style scoped>\n",
       "    .dataframe tbody tr th:only-of-type {\n",
       "        vertical-align: middle;\n",
       "    }\n",
       "\n",
       "    .dataframe tbody tr th {\n",
       "        vertical-align: top;\n",
       "    }\n",
       "\n",
       "    .dataframe thead th {\n",
       "        text-align: right;\n",
       "    }\n",
       "</style>\n",
       "<table border=\"1\" class=\"dataframe\">\n",
       "  <thead>\n",
       "    <tr style=\"text-align: right;\">\n",
       "      <th></th>\n",
       "      <th>BI_RADS</th>\n",
       "      <th>age</th>\n",
       "      <th>shape</th>\n",
       "      <th>margin</th>\n",
       "      <th>density</th>\n",
       "      <th>severity</th>\n",
       "    </tr>\n",
       "  </thead>\n",
       "  <tbody>\n",
       "    <tr>\n",
       "      <th>0</th>\n",
       "      <td>4.0</td>\n",
       "      <td>43.0</td>\n",
       "      <td>1.0</td>\n",
       "      <td>1.0</td>\n",
       "      <td>NaN</td>\n",
       "      <td>1</td>\n",
       "    </tr>\n",
       "    <tr>\n",
       "      <th>1</th>\n",
       "      <td>5.0</td>\n",
       "      <td>58.0</td>\n",
       "      <td>4.0</td>\n",
       "      <td>5.0</td>\n",
       "      <td>3.0</td>\n",
       "      <td>1</td>\n",
       "    </tr>\n",
       "    <tr>\n",
       "      <th>2</th>\n",
       "      <td>4.0</td>\n",
       "      <td>28.0</td>\n",
       "      <td>1.0</td>\n",
       "      <td>1.0</td>\n",
       "      <td>3.0</td>\n",
       "      <td>0</td>\n",
       "    </tr>\n",
       "    <tr>\n",
       "      <th>3</th>\n",
       "      <td>5.0</td>\n",
       "      <td>74.0</td>\n",
       "      <td>1.0</td>\n",
       "      <td>5.0</td>\n",
       "      <td>NaN</td>\n",
       "      <td>1</td>\n",
       "    </tr>\n",
       "    <tr>\n",
       "      <th>4</th>\n",
       "      <td>4.0</td>\n",
       "      <td>65.0</td>\n",
       "      <td>1.0</td>\n",
       "      <td>NaN</td>\n",
       "      <td>3.0</td>\n",
       "      <td>0</td>\n",
       "    </tr>\n",
       "  </tbody>\n",
       "</table>\n",
       "</div>"
      ],
      "text/plain": [
       "   BI_RADS   age  shape  margin  density  severity\n",
       "0      4.0  43.0    1.0     1.0      NaN         1\n",
       "1      5.0  58.0    4.0     5.0      3.0         1\n",
       "2      4.0  28.0    1.0     1.0      3.0         0\n",
       "3      5.0  74.0    1.0     5.0      NaN         1\n",
       "4      4.0  65.0    1.0     NaN      3.0         0"
      ]
     },
     "execution_count": 2,
     "metadata": {},
     "output_type": "execute_result"
    }
   ],
   "source": [
    "col_names=[\"BI_RADS\", \"age\", \"shape\", \"margin\", \"density\",\"severity\"]\n",
    "df.columns=col_names\n",
    "df.head()"
   ]
  },
  {
   "cell_type": "markdown",
   "metadata": {},
   "source": [
    "Evaluate whether the data needs cleaning; your model is only as good as the data it's given. Hint: use describe() on the dataframe."
   ]
  },
  {
   "cell_type": "code",
   "execution_count": 3,
   "metadata": {},
   "outputs": [
    {
     "data": {
      "text/html": [
       "<div>\n",
       "<style scoped>\n",
       "    .dataframe tbody tr th:only-of-type {\n",
       "        vertical-align: middle;\n",
       "    }\n",
       "\n",
       "    .dataframe tbody tr th {\n",
       "        vertical-align: top;\n",
       "    }\n",
       "\n",
       "    .dataframe thead th {\n",
       "        text-align: right;\n",
       "    }\n",
       "</style>\n",
       "<table border=\"1\" class=\"dataframe\">\n",
       "  <thead>\n",
       "    <tr style=\"text-align: right;\">\n",
       "      <th></th>\n",
       "      <th>BI_RADS</th>\n",
       "      <th>age</th>\n",
       "      <th>shape</th>\n",
       "      <th>margin</th>\n",
       "      <th>density</th>\n",
       "      <th>severity</th>\n",
       "    </tr>\n",
       "  </thead>\n",
       "  <tbody>\n",
       "    <tr>\n",
       "      <th>count</th>\n",
       "      <td>958.000000</td>\n",
       "      <td>955.000000</td>\n",
       "      <td>929.000000</td>\n",
       "      <td>912.000000</td>\n",
       "      <td>884.000000</td>\n",
       "      <td>960.000000</td>\n",
       "    </tr>\n",
       "    <tr>\n",
       "      <th>mean</th>\n",
       "      <td>4.347599</td>\n",
       "      <td>55.475393</td>\n",
       "      <td>2.721206</td>\n",
       "      <td>2.793860</td>\n",
       "      <td>2.910633</td>\n",
       "      <td>0.462500</td>\n",
       "    </tr>\n",
       "    <tr>\n",
       "      <th>std</th>\n",
       "      <td>1.783838</td>\n",
       "      <td>14.482917</td>\n",
       "      <td>1.243428</td>\n",
       "      <td>1.565702</td>\n",
       "      <td>0.380647</td>\n",
       "      <td>0.498852</td>\n",
       "    </tr>\n",
       "    <tr>\n",
       "      <th>min</th>\n",
       "      <td>0.000000</td>\n",
       "      <td>18.000000</td>\n",
       "      <td>1.000000</td>\n",
       "      <td>1.000000</td>\n",
       "      <td>1.000000</td>\n",
       "      <td>0.000000</td>\n",
       "    </tr>\n",
       "    <tr>\n",
       "      <th>25%</th>\n",
       "      <td>4.000000</td>\n",
       "      <td>45.000000</td>\n",
       "      <td>2.000000</td>\n",
       "      <td>1.000000</td>\n",
       "      <td>3.000000</td>\n",
       "      <td>0.000000</td>\n",
       "    </tr>\n",
       "    <tr>\n",
       "      <th>50%</th>\n",
       "      <td>4.000000</td>\n",
       "      <td>57.000000</td>\n",
       "      <td>3.000000</td>\n",
       "      <td>3.000000</td>\n",
       "      <td>3.000000</td>\n",
       "      <td>0.000000</td>\n",
       "    </tr>\n",
       "    <tr>\n",
       "      <th>75%</th>\n",
       "      <td>5.000000</td>\n",
       "      <td>66.000000</td>\n",
       "      <td>4.000000</td>\n",
       "      <td>4.000000</td>\n",
       "      <td>3.000000</td>\n",
       "      <td>1.000000</td>\n",
       "    </tr>\n",
       "    <tr>\n",
       "      <th>max</th>\n",
       "      <td>55.000000</td>\n",
       "      <td>96.000000</td>\n",
       "      <td>4.000000</td>\n",
       "      <td>5.000000</td>\n",
       "      <td>4.000000</td>\n",
       "      <td>1.000000</td>\n",
       "    </tr>\n",
       "  </tbody>\n",
       "</table>\n",
       "</div>"
      ],
      "text/plain": [
       "          BI_RADS         age       shape      margin     density    severity\n",
       "count  958.000000  955.000000  929.000000  912.000000  884.000000  960.000000\n",
       "mean     4.347599   55.475393    2.721206    2.793860    2.910633    0.462500\n",
       "std      1.783838   14.482917    1.243428    1.565702    0.380647    0.498852\n",
       "min      0.000000   18.000000    1.000000    1.000000    1.000000    0.000000\n",
       "25%      4.000000   45.000000    2.000000    1.000000    3.000000    0.000000\n",
       "50%      4.000000   57.000000    3.000000    3.000000    3.000000    0.000000\n",
       "75%      5.000000   66.000000    4.000000    4.000000    3.000000    1.000000\n",
       "max     55.000000   96.000000    4.000000    5.000000    4.000000    1.000000"
      ]
     },
     "execution_count": 3,
     "metadata": {},
     "output_type": "execute_result"
    }
   ],
   "source": [
    "df.describe()"
   ]
  },
  {
   "cell_type": "markdown",
   "metadata": {},
   "source": [
    "There are quite a few missing values in the data set. Before we just drop every row that's missing data, let's make sure we don't bias our data in doing so. Does there appear to be any sort of correlation to what sort of data has missing fields? If there were, we'd have to try and go back and fill that data in."
   ]
  },
  {
   "cell_type": "code",
   "execution_count": 4,
   "metadata": {},
   "outputs": [
    {
     "data": {
      "text/plain": [
       "<matplotlib.axes._subplots.AxesSubplot at 0x22283188f98>"
      ]
     },
     "execution_count": 4,
     "metadata": {},
     "output_type": "execute_result"
    }
   ],
   "source": [
    "import seaborn as sns\n",
    "sns.heatmap(df.isnull(),yticklabels=False,cbar=False,cmap='viridis')"
   ]
  },
  {
   "cell_type": "code",
   "execution_count": 5,
   "metadata": {},
   "outputs": [],
   "source": [
    "df.age  = df.age.fillna(value = df.age.mode()[0] )\n",
    "df.margin  = df.margin.fillna(value = df.margin.mode()[0] )\n",
    "df.density  = df.density.fillna(value = df.density.mode()[0] )\n",
    "df.shape  = df['shape'].fillna(value = df['shape'].mode()[0] )"
   ]
  },
  {
   "cell_type": "code",
   "execution_count": 6,
   "metadata": {},
   "outputs": [
    {
     "data": {
      "text/plain": [
       "<matplotlib.axes._subplots.AxesSubplot at 0x2228348a1d0>"
      ]
     },
     "execution_count": 6,
     "metadata": {},
     "output_type": "execute_result"
    },
    {
     "data": {
      "image/png": "[encoded data removed]",
      "text/plain": [
       "<Figure size 432x288 with 1 Axes>"
      ]
     },
     "metadata": {
      "needs_background": "light"
     },
     "output_type": "display_data"
    }
   ],
   "source": [
    "sns.heatmap(df.isnull(),yticklabels=False,cbar=False,cmap='viridis')"
   ]
  },
  {
   "cell_type": "markdown",
   "metadata": {},
   "source": [
    "If the missing data seems randomly distributed, go ahead and drop rows with missing data. Hint: use dropna()."
   ]
  },
  {
   "cell_type": "code",
   "execution_count": null,
   "metadata": {},
   "outputs": [],
   "source": []
  },
  {
   "cell_type": "markdown",
   "metadata": {
    "collapsed": true
   },
   "source": [
    "Next you'll need to convert the Pandas dataframes into numpy arrays that can be used by scikit_learn. Create an array that extracts only the feature data we want to work with (age, shape, margin, and density) and another array that contains the classes (severity). You'll also need an array of the feature name labels."
   ]
  },
  {
   "cell_type": "code",
   "execution_count": 7,
   "metadata": {},
   "outputs": [
    {
     "name": "stdout",
     "output_type": "stream",
     "text": [
      "[[43.  1.  1.  3.]\n",
      " [58.  4.  5.  3.]\n",
      " [28.  1.  1.  3.]\n",
      " ...\n",
      " [64.  4.  5.  3.]\n",
      " [66.  4.  5.  3.]\n",
      " [62.  3.  3.  3.]]\n",
      "[1 1 0 1 0 0 0 1 1 1 1 0 0 0 0 0 1 1 0 1 1 0 1 1 1 0 0 1 0 0 1 1 0 0 0 0 1\n",
      " 1 0 0 0 0 0 1 1 1 0 0 1 0 1 0 0 1 0 0 0 0 1 1 1 0 0 1 0 0 1 0 0 0 1 0 1 1\n",
      " 0 1 0 1 0 0 1 1 0 1 0 1 0 0 1 1 1 0 1 0 1 0 0 0 0 0 0 0 0 0 0 1 0 0 1 0 1\n",
      " 0 0 0 0 0 0 1 0 1 0 0 0 0 0 0 0 0 1 1 1 0 0 1 1 1 1 0 1 1 0 0 0 0 1 1 1 1\n",
      " 0 1 1 0 0 0 0 1 0 0 1 1 0 0 0 0 1 1 0 1 1 0 0 0 0 0 1 0 0 0 1 0 0 0 0 1 1\n",
      " 1 0 1 1 0 1 0 1 0 1 0 1 0 0 0 0 1 0 0 1 0 1 0 0 0 0 1 1 1 0 0 0 0 0 0 0 1\n",
      " 1 1 0 1 0 0 0 0 1 1 0 1 0 0 0 1 0 1 0 0 0 1 0 0 1 0 0 0 1 0 1 1 0 1 1 1 1\n",
      " 1 0 0 0 1 0 1 0 1 1 1 1 1 0 1 0 1 0 1 0 1 0 0 1 1 1 0 0 1 0 1 0 1 1 0 1 0\n",
      " 1 0 1 1 0 0 0 0 0 0 0 0 0 1 1 1 1 0 1 0 0 0 1 1 1 0 1 0 0 0 0 1 1 1 0 1 1\n",
      " 0 1 1 1 1 0 1 1 0 0 0 1 0 1 0 0 1 1 0 0 1 0 0 1 1 0 1 1 0 1 0 0 0 1 1 1 1\n",
      " 0 0 0 1 1 0 1 0 1 0 1 1 0 0 1 0 0 0 0 1 1 0 0 0 1 1 0 0 1 0 1 0 1 1 1 1 0\n",
      " 0 1 0 1 0 1 1 1 0 1 1 1 1 0 0 0 1 0 1 0 1 1 0 1 0 1 1 1 1 1 0 1 1 1 0 1 1\n",
      " 1 0 0 1 1 1 0 0 1 0 0 1 1 1 0 0 0 1 0 0 0 1 1 0 1 0 1 0 0 0 0 0 0 1 0 1 0\n",
      " 0 0 0 0 0 1 1 0 1 1 1 1 1 1 1 0 0 1 0 1 0 0 0 0 1 1 1 1 0 0 1 1 1 0 0 1 0\n",
      " 0 1 1 1 0 0 1 1 1 0 1 0 0 0 0 0 1 0 1 1 0 0 0 0 1 1 0 0 1 1 1 1 0 0 0 1 0\n",
      " 0 1 0 1 1 0 0 0 1 1 0 0 0 1 0 0 0 0 0 1 0 0 1 0 0 0 0 1 0 0 0 0 1 1 0 1 1\n",
      " 0 0 0 1 0 1 1 0 1 1 1 0 1 1 0 0 1 1 1 0 1 1 0 1 0 1 0 0 0 0 1 1 0 1 0 0 0\n",
      " 0 0 0 1 0 1 0 0 0 1 1 0 1 0 0 0 1 0 0 1 0 1 0 1 0 1 1 0 0 1 1 0 1 1 1 0 0\n",
      " 0 1 0 1 1 1 1 1 1 1 1 1 0 0 0 0 1 1 1 1 1 1 1 0 0 1 1 0 0 0 1 0 1 1 1 0 1\n",
      " 0 1 0 0 1 0 0 0 1 1 0 0 0 1 1 0 0 0 1 0 1 0 1 1 0 0 1 1 0 0 0 0 0 1 0 0 0\n",
      " 0 0 0 0 0 1 0 1 0 0 0 1 1 0 0 1 1 1 1 0 1 1 1 0 1 1 0 0 1 0 0 1 0 1 0 0 0\n",
      " 0 0 0 0 1 1 0 1 0 1 1 0 0 1 1 0 0 1 1 1 0 1 1 1 0 0 0 1 1 0 1 0 1 1 1 0 1\n",
      " 0 0 0 0 0 1 0 0 1 1 0 1 1 0 1 1 0 1 1 0 1 0 1 0 0 0 0 1 0 0 0 0 0 1 0 0 1\n",
      " 0 0 1 0 1 0 1 1 1 1 1 1 1 0 1 0 0 0 1 0 1 1 0 0 0 0 1 0 1 1 0 1 1 1 0 1 1\n",
      " 1 1 1 1 0 0 1 0 1 0 1 1 1 0 1 1 0 0 1 1 0 1 0 1 0 1 0 0 1 0 0 0 1 0 1 1 0\n",
      " 1 0 1 0 0 1 0 0 0 1 0 0 0 0 1 0 1 0 1 0 0 0 1 0 1 1 1 0 0 1 0 1 0 1 0]\n",
      "['age', 'shape', 'margin', 'density']\n"
     ]
    }
   ],
   "source": [
    "my_featues = df[['age','shape','margin','density']].values\n",
    "target =  df['severity'].values\n",
    "col_names=['age','shape','margin','density']\n",
    "print(my_featues)\n",
    "print(target)\n",
    "print(col_names)"
   ]
  },
  {
   "cell_type": "markdown",
   "metadata": {},
   "source": [
    "Some of our models require the input data to be normalized, so go ahead and normalize the attribute data. Hint: use preprocessing.StandardScaler()."
   ]
  },
  {
   "cell_type": "code",
   "execution_count": 8,
   "metadata": {},
   "outputs": [
    {
     "data": {
      "text/plain": [
       "array([[-0.86522915, -1.41765235, -1.08233256,  0.22492704],\n",
       "       [ 0.17356523,  0.99537293,  1.45810573,  0.22492704],\n",
       "       [-1.90402353, -1.41765235, -1.08233256,  0.22492704],\n",
       "       ...,\n",
       "       [ 0.58908298,  0.99537293,  1.45810573,  0.22492704],\n",
       "       [ 0.7275889 ,  0.99537293,  1.45810573,  0.22492704],\n",
       "       [ 0.45057706,  0.19103117,  0.18788658,  0.22492704]])"
      ]
     },
     "execution_count": 8,
     "metadata": {},
     "output_type": "execute_result"
    }
   ],
   "source": [
    "from sklearn.preprocessing import StandardScaler\n",
    "scaler=StandardScaler()\n",
    "scaled_features=scaler.fit_transform(my_featues)\n",
    "scaled_features"
   ]
  },
  {
   "cell_type": "markdown",
   "metadata": {},
   "source": [
    "## Decision Trees\n",
    "\n",
    "Before moving to K-Fold cross validation and random forests, start by creating a single train/test split of our data. Set aside 75% for training, and 25% for testing."
   ]
  },
  {
   "cell_type": "code",
   "execution_count": 9,
   "metadata": {},
   "outputs": [],
   "source": [
    "from sklearn.model_selection import train_test_split\n",
    "X=df[['age', 'shape', 'margin', 'density']]\n",
    "y= df['severity']\n",
    "#scaled_features\n",
    "#target\n",
    "#X_train, X_test, y_train, y_test = train_test_split(scaled_features,target, test_size=0.25, random_state=42)\n",
    "X_train, X_test, y_train, y_test = train_test_split(X, y, test_size=0.25, random_state=42)"
   ]
  },
  {
   "cell_type": "markdown",
   "metadata": {},
   "source": [
    "Now create a DecisionTreeClassifier and fit it to your training data."
   ]
  },
  {
   "cell_type": "code",
   "execution_count": 10,
   "metadata": {},
   "outputs": [],
   "source": [
    "from sklearn import tree\n",
    "clf = tree.DecisionTreeClassifier()\n",
    "clf = clf.fit(X_train, y_train)\n",
    "pred_DT = clf.predict(X_test)"
   ]
  },
  {
   "cell_type": "markdown",
   "metadata": {},
   "source": [
    "Display the resulting decision tree."
   ]
  },
  {
   "cell_type": "code",
   "execution_count": 110,
   "metadata": {
    "scrolled": true
   },
   "outputs": [
    {
     "ename": "InvocationException",
     "evalue": "GraphViz's executables not found",
     "output_type": "error",
     "traceback": [
      "\u001b[1;31m---------------------------------------------------------------------------\u001b[0m",
      "\u001b[1;31mInvocationException\u001b[0m                       Traceback (most recent call last)",
      "\u001b[1;32m<ipython-input-110-f9be6c94a2b9>\u001b[0m in \u001b[0;36m<module>\u001b[1;34m\u001b[0m\n\u001b[0;32m      7\u001b[0m                          feature_names=col_names)  \n\u001b[0;32m      8\u001b[0m \u001b[0mgraph\u001b[0m \u001b[1;33m=\u001b[0m \u001b[0mpydotplus\u001b[0m\u001b[1;33m.\u001b[0m\u001b[0mgraph_from_dot_data\u001b[0m\u001b[1;33m(\u001b[0m\u001b[0mdot_data\u001b[0m\u001b[1;33m.\u001b[0m\u001b[0mgetvalue\u001b[0m\u001b[1;33m(\u001b[0m\u001b[1;33m)\u001b[0m\u001b[1;33m)\u001b[0m\u001b[1;33m\u001b[0m\u001b[1;33m\u001b[0m\u001b[0m\n\u001b[1;32m----> 9\u001b[1;33m \u001b[0mImage\u001b[0m\u001b[1;33m(\u001b[0m\u001b[0mgraph\u001b[0m\u001b[1;33m.\u001b[0m\u001b[0mcreate_png\u001b[0m\u001b[1;33m(\u001b[0m\u001b[1;33m)\u001b[0m\u001b[1;33m)\u001b[0m\u001b[1;33m\u001b[0m\u001b[1;33m\u001b[0m\u001b[0m\n\u001b[0m",
      "\u001b[1;32m~\\Anaconda3\\lib\\site-packages\\pydotplus\\graphviz.py\u001b[0m in \u001b[0;36m<lambda>\u001b[1;34m(f, prog)\u001b[0m\n\u001b[0;32m   1795\u001b[0m             self.__setattr__(\n\u001b[0;32m   1796\u001b[0m                 \u001b[1;34m'create_'\u001b[0m \u001b[1;33m+\u001b[0m \u001b[0mfrmt\u001b[0m\u001b[1;33m,\u001b[0m\u001b[1;33m\u001b[0m\u001b[1;33m\u001b[0m\u001b[0m\n\u001b[1;32m-> 1797\u001b[1;33m                 \u001b[1;32mlambda\u001b[0m \u001b[0mf\u001b[0m\u001b[1;33m=\u001b[0m\u001b[0mfrmt\u001b[0m\u001b[1;33m,\u001b[0m \u001b[0mprog\u001b[0m\u001b[1;33m=\u001b[0m\u001b[0mself\u001b[0m\u001b[1;33m.\u001b[0m\u001b[0mprog\u001b[0m\u001b[1;33m:\u001b[0m \u001b[0mself\u001b[0m\u001b[1;33m.\u001b[0m\u001b[0mcreate\u001b[0m\u001b[1;33m(\u001b[0m\u001b[0mformat\u001b[0m\u001b[1;33m=\u001b[0m\u001b[0mf\u001b[0m\u001b[1;33m,\u001b[0m \u001b[0mprog\u001b[0m\u001b[1;33m=\u001b[0m\u001b[0mprog\u001b[0m\u001b[1;33m)\u001b[0m\u001b[1;33m\u001b[0m\u001b[1;33m\u001b[0m\u001b[0m\n\u001b[0m\u001b[0;32m   1798\u001b[0m             )\n\u001b[0;32m   1799\u001b[0m             \u001b[0mf\u001b[0m \u001b[1;33m=\u001b[0m \u001b[0mself\u001b[0m\u001b[1;33m.\u001b[0m\u001b[0m__dict__\u001b[0m\u001b[1;33m[\u001b[0m\u001b[1;34m'create_'\u001b[0m \u001b[1;33m+\u001b[0m \u001b[0mfrmt\u001b[0m\u001b[1;33m]\u001b[0m\u001b[1;33m\u001b[0m\u001b[1;33m\u001b[0m\u001b[0m\n",
      "\u001b[1;32m~\\Anaconda3\\lib\\site-packages\\pydotplus\\graphviz.py\u001b[0m in \u001b[0;36mcreate\u001b[1;34m(self, prog, format)\u001b[0m\n\u001b[0;32m   1958\u001b[0m             \u001b[1;32mif\u001b[0m \u001b[0mself\u001b[0m\u001b[1;33m.\u001b[0m\u001b[0mprogs\u001b[0m \u001b[1;32mis\u001b[0m \u001b[1;32mNone\u001b[0m\u001b[1;33m:\u001b[0m\u001b[1;33m\u001b[0m\u001b[1;33m\u001b[0m\u001b[0m\n\u001b[0;32m   1959\u001b[0m                 raise InvocationException(\n\u001b[1;32m-> 1960\u001b[1;33m                     'GraphViz\\'s executables not found')\n\u001b[0m\u001b[0;32m   1961\u001b[0m \u001b[1;33m\u001b[0m\u001b[0m\n\u001b[0;32m   1962\u001b[0m         \u001b[1;32mif\u001b[0m \u001b[0mprog\u001b[0m \u001b[1;32mnot\u001b[0m \u001b[1;32min\u001b[0m \u001b[0mself\u001b[0m\u001b[1;33m.\u001b[0m\u001b[0mprogs\u001b[0m\u001b[1;33m:\u001b[0m\u001b[1;33m\u001b[0m\u001b[1;33m\u001b[0m\u001b[0m\n",
      "\u001b[1;31mInvocationException\u001b[0m: GraphViz's executables not found"
     ]
    }
   ],
   "source": [
    "from IPython.display import Image  \n",
    "from sklearn.externals.six import StringIO  \n",
    "import pydotplus\n",
    "\n",
    "dot_data = StringIO()  \n",
    "tree.export_graphviz(clf, out_file=dot_data,  \n",
    "                         feature_names=col_names)  \n",
    "graph = pydotplus.graph_from_dot_data(dot_data.getvalue())  \n",
    "Image(graph.create_png()) "
   ]
  },
  {
   "cell_type": "markdown",
   "metadata": {},
   "source": [
    "Measure the accuracy of the resulting decision tree model using your test data."
   ]
  },
  {
   "cell_type": "code",
   "execution_count": 11,
   "metadata": {},
   "outputs": [
    {
     "name": "stdout",
     "output_type": "stream",
     "text": [
      "Individual Accuracy: 0.6958333333333333\n",
      "[[93 35]\n",
      " [38 74]]\n",
      "Decision Tree Accuracy:  0.6958333333333333\n",
      "\n",
      "\n",
      "              precision    recall  f1-score   support\n",
      "\n",
      "           0       0.71      0.73      0.72       128\n",
      "           1       0.68      0.66      0.67       112\n",
      "\n",
      "   micro avg       0.70      0.70      0.70       240\n",
      "   macro avg       0.69      0.69      0.69       240\n",
      "weighted avg       0.70      0.70      0.70       240\n",
      "\n"
     ]
    }
   ],
   "source": [
    "from sklearn.metrics import confusion_matrix \n",
    "from sklearn.metrics import accuracy_score \n",
    "from sklearn.metrics import classification_report\n",
    "\n",
    "print(\"Individual Accuracy:\",clf.score(X_test, y_test))\n",
    "results3 = confusion_matrix(y_test, pred_DT)\n",
    "accuracy3=accuracy_score(y_test, pred_DT)\n",
    "report3=classification_report(y_test, pred_DT) \n",
    "print(results3)\n",
    "print('Decision Tree Accuracy: ',accuracy3)\n",
    "print('\\n')\n",
    "print(report3)"
   ]
  },
  {
   "cell_type": "markdown",
   "metadata": {},
   "source": [
    "Now instead of a single train/test split, use K-Fold cross validation to get a better measure of your model's accuracy (K=10). Hint: use model_selection.cross_val_score"
   ]
  },
  {
   "cell_type": "code",
   "execution_count": 12,
   "metadata": {},
   "outputs": [
    {
     "name": "stdout",
     "output_type": "stream",
     "text": [
      "[0.69072165 0.78350515 0.78350515 0.72164948 0.6875     0.78125\n",
      " 0.68421053 0.78947368 0.75789474 0.68421053]\n",
      "0.736392091698318\n"
     ]
    }
   ],
   "source": [
    "from sklearn.model_selection import cross_val_score\n",
    "scores = cross_val_score(clf,X,y, cv=10)\n",
    "print(scores)\n",
    "print(scores.mean())"
   ]
  },
  {
   "cell_type": "markdown",
   "metadata": {},
   "source": [
    "Now try a RandomForestClassifier instead. Does it perform better?"
   ]
  },
  {
   "cell_type": "code",
   "execution_count": 13,
   "metadata": {},
   "outputs": [
    {
     "name": "stdout",
     "output_type": "stream",
     "text": [
      "Individual Accuracy: 0.8875\n",
      "[[118  10]\n",
      " [ 17  95]]\n",
      "Random Forest Accuracy:  0.8875\n",
      "\n",
      "\n",
      "              precision    recall  f1-score   support\n",
      "\n",
      "           0       0.87      0.92      0.90       128\n",
      "           1       0.90      0.85      0.88       112\n",
      "\n",
      "   micro avg       0.89      0.89      0.89       240\n",
      "   macro avg       0.89      0.89      0.89       240\n",
      "weighted avg       0.89      0.89      0.89       240\n",
      "\n"
     ]
    }
   ],
   "source": [
    "from sklearn.ensemble import RandomForestClassifier\n",
    "\n",
    "clf_rF = RandomForestClassifier(n_estimators=3)\n",
    "clf_rF = clf.fit(X, y)\n",
    "\n",
    "pred_RandomFor=clf_rF.predict(X_test)\n",
    "\n",
    "print(\"Individual Accuracy:\",clf_rF.score(X_test, y_test))\n",
    "results2 = confusion_matrix(y_test, pred_RandomFor)\n",
    "accuracy2=accuracy_score(y_test, pred_RandomFor)\n",
    "report2=classification_report(y_test, pred_RandomFor) \n",
    "print(results2)\n",
    "print('Random Forest Accuracy: ',accuracy2)\n",
    "print('\\n')\n",
    "print(report2)"
   ]
  },
  {
   "cell_type": "markdown",
   "metadata": {},
   "source": [
    "## SVM\n",
    "\n",
    "Next try using svm.SVC with a linear kernel. How does it compare to the decision tree?"
   ]
  },
  {
   "cell_type": "code",
   "execution_count": 14,
   "metadata": {},
   "outputs": [],
   "source": [
    "'''\n",
    "The C parameter tells the SVM optimization how much you want to avoid misclassifying each training example.\n",
    "For large values of C, the optimization will choose a smaller-margin hyperplane if that hyperplane does a better job \n",
    "of getting all the training points classified correctly. Conversely, a very small value of C will cause the optimizer to \n",
    "look for a larger-margin separating hyperplane, even if that hyperplane misclassifies more points.\n",
    "For very tiny values of C, you should get misclassified examples, often even if your training data is linearly separable.\n",
    "'''\n",
    "from sklearn.svm import SVC\n",
    "svc_model = SVC(kernel='linear')\n",
    "svc_model.fit(X_train,y_train)\n",
    "svm_predictions = svc_model.predict(X_test)"
   ]
  },
  {
   "cell_type": "code",
   "execution_count": 15,
   "metadata": {},
   "outputs": [
    {
     "name": "stdout",
     "output_type": "stream",
     "text": [
      "[[95 33]\n",
      " [18 94]]\n",
      "SVM Model Accuracy:  0.7875\n",
      "\n",
      "\n",
      "              precision    recall  f1-score   support\n",
      "\n",
      "           0       0.84      0.74      0.79       128\n",
      "           1       0.74      0.84      0.79       112\n",
      "\n",
      "   micro avg       0.79      0.79      0.79       240\n",
      "   macro avg       0.79      0.79      0.79       240\n",
      "weighted avg       0.79      0.79      0.79       240\n",
      "\n"
     ]
    }
   ],
   "source": [
    "svm_results = confusion_matrix(y_test, svm_predictions)\n",
    "svm_accuracy=accuracy_score(y_test, svm_predictions)\n",
    "svm_report=classification_report(y_test, svm_predictions) \n",
    "print(svm_results)\n",
    "print('SVM Model Accuracy: ',svm_accuracy)\n",
    "print('\\n')\n",
    "print(svm_report)"
   ]
  },
  {
   "cell_type": "markdown",
   "metadata": {},
   "source": [
    "## KNN\n",
    "How about K-Nearest-Neighbors? Hint: use neighbors.KNeighborsClassifier - it's a lot easier than implementing KNN from scratch like we did earlier in the course. Start with a K of 10. K is an example of a hyperparameter - a parameter on the model itself which may need to be tuned for best results on your particular data set."
   ]
  },
  {
   "cell_type": "code",
   "execution_count": 16,
   "metadata": {
    "scrolled": true
   },
   "outputs": [
    {
     "name": "stdout",
     "output_type": "stream",
     "text": [
      "[[97 31]\n",
      " [27 85]]\n",
      "KNN Accuracy:  0.7583333333333333\n",
      "\n",
      "\n",
      "              precision    recall  f1-score   support\n",
      "\n",
      "           0       0.78      0.76      0.77       128\n",
      "           1       0.73      0.76      0.75       112\n",
      "\n",
      "   micro avg       0.76      0.76      0.76       240\n",
      "   macro avg       0.76      0.76      0.76       240\n",
      "weighted avg       0.76      0.76      0.76       240\n",
      "\n"
     ]
    }
   ],
   "source": [
    "from sklearn.neighbors import KNeighborsClassifier\n",
    "knn = KNeighborsClassifier()\n",
    "knn.fit(X_train,y_train)\n",
    "knn_pred = knn.predict(X_test)\n",
    "\n",
    "\n",
    "knn_results = confusion_matrix(y_test, knn_pred)\n",
    "knn_accuracy=accuracy_score(y_test,knn_pred)\n",
    "knn_report=classification_report(y_test,knn_pred) \n",
    "print(knn_results)\n",
    "print('KNN Accuracy: ',knn_accuracy)\n",
    "print('\\n')\n",
    "print(knn_report)"
   ]
  },
  {
   "cell_type": "code",
   "execution_count": null,
   "metadata": {},
   "outputs": [],
   "source": []
  },
  {
   "cell_type": "markdown",
   "metadata": {},
   "source": [
    "Choosing K is tricky, so we can't discard KNN until we've tried different values of K. Write a for loop to run KNN with K values ranging from 1 to 50 and see if K makes a substantial difference. Make a note of the best performance you could get out of KNN."
   ]
  },
  {
   "cell_type": "code",
   "execution_count": 17,
   "metadata": {},
   "outputs": [],
   "source": [
    "import numpy as np\n",
    "error_rate = []\n",
    "\n",
    "# Will take some time\n",
    "for i in range(1,50):\n",
    "    \n",
    "    knn = KNeighborsClassifier(n_neighbors=i)\n",
    "    knn.fit(X_train,y_train)\n",
    "    pred_i = knn.predict(X_test)\n",
    "    error_rate.append(np.mean(pred_i != y_test))"
   ]
  },
  {
   "cell_type": "code",
   "execution_count": 18,
   "metadata": {},
   "outputs": [
    {
     "data": {
      "text/plain": [
       "Text(0, 0.5, 'Error Rate')"
      ]
     },
     "execution_count": 18,
     "metadata": {},
     "output_type": "execute_result"
    },
    {
     "data": {
      "image/png": "[encoded data removed]",
      "text/plain": [
       "<Figure size 720x432 with 1 Axes>"
      ]
     },
     "metadata": {
      "needs_background": "light"
     },
     "output_type": "display_data"
    }
   ],
   "source": [
    "import matplotlib.pyplot as plt\n",
    "\n",
    "plt.figure(figsize=(10,6))\n",
    "plt.plot(range(1,50),error_rate,color='blue', linestyle='dashed', marker='o',\n",
    "         markerfacecolor='red', markersize=10)\n",
    "plt.title('Error Rate vs. K Value')\n",
    "plt.xlabel('K')\n",
    "plt.ylabel('Error Rate')"
   ]
  },
  {
   "cell_type": "code",
   "execution_count": 19,
   "metadata": {},
   "outputs": [
    {
     "name": "stdout",
     "output_type": "stream",
     "text": [
      "WITH K=15\n",
      "\n",
      "\n",
      "[[93 35]\n",
      " [18 94]]\n",
      "KNN Accuracy:  0.7583333333333333\n",
      "\n",
      "\n",
      "              precision    recall  f1-score   support\n",
      "\n",
      "           0       0.84      0.73      0.78       128\n",
      "           1       0.73      0.84      0.78       112\n",
      "\n",
      "   micro avg       0.78      0.78      0.78       240\n",
      "   macro avg       0.78      0.78      0.78       240\n",
      "weighted avg       0.79      0.78      0.78       240\n",
      "\n"
     ]
    }
   ],
   "source": [
    "# NOW WITH K=15\n",
    "knn = KNeighborsClassifier(n_neighbors=15)\n",
    "\n",
    "knn.fit(X_train,y_train)\n",
    "pred = knn.predict(X_test)\n",
    "\n",
    "print('WITH K=15')\n",
    "print('\\n')\n",
    "print(confusion_matrix(y_test,pred))\n",
    "knn_accuracy=accuracy_score(y_test,knn_pred)\n",
    "print('KNN Accuracy: ',knn_accuracy)\n",
    "print('\\n')\n",
    "print(classification_report(y_test,pred))"
   ]
  },
  {
   "cell_type": "markdown",
   "metadata": {},
   "source": [
    "## Naive Bayes\n",
    "\n",
    "Now try naive_bayes.MultinomialNB. How does its accuracy stack up? Hint: you'll need to use MinMaxScaler to get the features in the range MultinomialNB requires."
   ]
  },
  {
   "cell_type": "code",
   "execution_count": 20,
   "metadata": {},
   "outputs": [
    {
     "name": "stdout",
     "output_type": "stream",
     "text": [
      "[[93 35]\n",
      " [20 92]]\n",
      "Naive Bayes Model Accuracy:  0.7708333333333334\n",
      "\n",
      "\n",
      "              precision    recall  f1-score   support\n",
      "\n",
      "           0       0.82      0.73      0.77       128\n",
      "           1       0.72      0.82      0.77       112\n",
      "\n",
      "   micro avg       0.77      0.77      0.77       240\n",
      "   macro avg       0.77      0.77      0.77       240\n",
      "weighted avg       0.78      0.77      0.77       240\n",
      "\n"
     ]
    }
   ],
   "source": [
    "from sklearn.naive_bayes import MultinomialNB\n",
    "\n",
    "nb_model = MultinomialNB().fit(X_train, y_train)\n",
    "\n",
    "nb_pred = nb_model.predict(X_test)\n",
    "\n",
    "nb_results = confusion_matrix(y_test, nb_pred)\n",
    "nb_accuracy=accuracy_score(y_test, nb_pred)\n",
    "nb_report=classification_report(y_test,nb_pred) \n",
    "print(nb_results)\n",
    "print('Naive Bayes Model Accuracy: ',nb_accuracy)\n",
    "print('\\n')\n",
    "print(nb_report)"
   ]
  },
  {
   "cell_type": "markdown",
   "metadata": {},
   "source": [
    "## Revisiting SVM\n",
    "\n",
    "svm.SVC may perform differently with different kernels. The choice of kernel is an example of a \"hyperparamter.\" Try the rbf, sigmoid, and poly kernels and see what the best-performing kernel is. Do we have a new winner?"
   ]
  },
  {
   "cell_type": "code",
   "execution_count": 21,
   "metadata": {},
   "outputs": [
    {
     "name": "stderr",
     "output_type": "stream",
     "text": [
      "C:\\Users\\Abdul Hannan\\Anaconda3\\lib\\site-packages\\sklearn\\svm\\base.py:196: FutureWarning: The default value of gamma will change from 'auto' to 'scale' in version 0.22 to account better for unscaled features. Set gamma explicitly to 'auto' or 'scale' to avoid this warning.\n",
      "  \"avoid this warning.\", FutureWarning)\n",
      "C:\\Users\\Abdul Hannan\\Anaconda3\\lib\\site-packages\\sklearn\\svm\\base.py:196: FutureWarning: The default value of gamma will change from 'auto' to 'scale' in version 0.22 to account better for unscaled features. Set gamma explicitly to 'auto' or 'scale' to avoid this warning.\n",
      "  \"avoid this warning.\", FutureWarning)\n",
      "C:\\Users\\Abdul Hannan\\Anaconda3\\lib\\site-packages\\sklearn\\svm\\base.py:196: FutureWarning: The default value of gamma will change from 'auto' to 'scale' in version 0.22 to account better for unscaled features. Set gamma explicitly to 'auto' or 'scale' to avoid this warning.\n",
      "  \"avoid this warning.\", FutureWarning)\n",
      "C:\\Users\\Abdul Hannan\\Anaconda3\\lib\\site-packages\\sklearn\\svm\\base.py:196: FutureWarning: The default value of gamma will change from 'auto' to 'scale' in version 0.22 to account better for unscaled features. Set gamma explicitly to 'auto' or 'scale' to avoid this warning.\n",
      "  \"avoid this warning.\", FutureWarning)\n",
      "C:\\Users\\Abdul Hannan\\Anaconda3\\lib\\site-packages\\sklearn\\svm\\base.py:196: FutureWarning: The default value of gamma will change from 'auto' to 'scale' in version 0.22 to account better for unscaled features. Set gamma explicitly to 'auto' or 'scale' to avoid this warning.\n",
      "  \"avoid this warning.\", FutureWarning)\n",
      "C:\\Users\\Abdul Hannan\\Anaconda3\\lib\\site-packages\\sklearn\\svm\\base.py:196: FutureWarning: The default value of gamma will change from 'auto' to 'scale' in version 0.22 to account better for unscaled features. Set gamma explicitly to 'auto' or 'scale' to avoid this warning.\n",
      "  \"avoid this warning.\", FutureWarning)\n",
      "C:\\Users\\Abdul Hannan\\Anaconda3\\lib\\site-packages\\sklearn\\svm\\base.py:196: FutureWarning: The default value of gamma will change from 'auto' to 'scale' in version 0.22 to account better for unscaled features. Set gamma explicitly to 'auto' or 'scale' to avoid this warning.\n",
      "  \"avoid this warning.\", FutureWarning)\n",
      "C:\\Users\\Abdul Hannan\\Anaconda3\\lib\\site-packages\\sklearn\\svm\\base.py:196: FutureWarning: The default value of gamma will change from 'auto' to 'scale' in version 0.22 to account better for unscaled features. Set gamma explicitly to 'auto' or 'scale' to avoid this warning.\n",
      "  \"avoid this warning.\", FutureWarning)\n",
      "C:\\Users\\Abdul Hannan\\Anaconda3\\lib\\site-packages\\sklearn\\svm\\base.py:196: FutureWarning: The default value of gamma will change from 'auto' to 'scale' in version 0.22 to account better for unscaled features. Set gamma explicitly to 'auto' or 'scale' to avoid this warning.\n",
      "  \"avoid this warning.\", FutureWarning)\n",
      "C:\\Users\\Abdul Hannan\\Anaconda3\\lib\\site-packages\\sklearn\\svm\\base.py:196: FutureWarning: The default value of gamma will change from 'auto' to 'scale' in version 0.22 to account better for unscaled features. Set gamma explicitly to 'auto' or 'scale' to avoid this warning.\n",
      "  \"avoid this warning.\", FutureWarning)\n"
     ]
    },
    {
     "name": "stdout",
     "output_type": "stream",
     "text": [
      "[0.7628866  0.75257732 0.78350515 0.81443299 0.79166667 0.80208333\n",
      " 0.75789474 0.78947368 0.84210526 0.77894737]\n",
      "0.7875573114487249\n"
     ]
    }
   ],
   "source": [
    "'''\n",
    "or example linear, nonlinear, polynomial, radial basis function (RBF), and sigmoid.\n",
    "Introduce Kernel functions for sequence data, graphs, text, images, as well as vectors.\n",
    "The most used type of kernel function is RBF. Because it has localized and finite response along the entire x-axis.\n",
    "'''\n",
    "svc_model = SVC(kernel='rbf')\n",
    "scores = cross_val_score(svc_model,X,y, cv=10)\n",
    "print(scores)\n",
    "print(scores.mean())"
   ]
  },
  {
   "cell_type": "code",
   "execution_count": 22,
   "metadata": {},
   "outputs": [
    {
     "name": "stderr",
     "output_type": "stream",
     "text": [
      "C:\\Users\\Abdul Hannan\\Anaconda3\\lib\\site-packages\\sklearn\\svm\\base.py:196: FutureWarning: The default value of gamma will change from 'auto' to 'scale' in version 0.22 to account better for unscaled features. Set gamma explicitly to 'auto' or 'scale' to avoid this warning.\n",
      "  \"avoid this warning.\", FutureWarning)\n",
      "C:\\Users\\Abdul Hannan\\Anaconda3\\lib\\site-packages\\sklearn\\svm\\base.py:196: FutureWarning: The default value of gamma will change from 'auto' to 'scale' in version 0.22 to account better for unscaled features. Set gamma explicitly to 'auto' or 'scale' to avoid this warning.\n",
      "  \"avoid this warning.\", FutureWarning)\n",
      "C:\\Users\\Abdul Hannan\\Anaconda3\\lib\\site-packages\\sklearn\\svm\\base.py:196: FutureWarning: The default value of gamma will change from 'auto' to 'scale' in version 0.22 to account better for unscaled features. Set gamma explicitly to 'auto' or 'scale' to avoid this warning.\n",
      "  \"avoid this warning.\", FutureWarning)\n",
      "C:\\Users\\Abdul Hannan\\Anaconda3\\lib\\site-packages\\sklearn\\svm\\base.py:196: FutureWarning: The default value of gamma will change from 'auto' to 'scale' in version 0.22 to account better for unscaled features. Set gamma explicitly to 'auto' or 'scale' to avoid this warning.\n",
      "  \"avoid this warning.\", FutureWarning)\n",
      "C:\\Users\\Abdul Hannan\\Anaconda3\\lib\\site-packages\\sklearn\\svm\\base.py:196: FutureWarning: The default value of gamma will change from 'auto' to 'scale' in version 0.22 to account better for unscaled features. Set gamma explicitly to 'auto' or 'scale' to avoid this warning.\n",
      "  \"avoid this warning.\", FutureWarning)\n",
      "C:\\Users\\Abdul Hannan\\Anaconda3\\lib\\site-packages\\sklearn\\svm\\base.py:196: FutureWarning: The default value of gamma will change from 'auto' to 'scale' in version 0.22 to account better for unscaled features. Set gamma explicitly to 'auto' or 'scale' to avoid this warning.\n",
      "  \"avoid this warning.\", FutureWarning)\n",
      "C:\\Users\\Abdul Hannan\\Anaconda3\\lib\\site-packages\\sklearn\\svm\\base.py:196: FutureWarning: The default value of gamma will change from 'auto' to 'scale' in version 0.22 to account better for unscaled features. Set gamma explicitly to 'auto' or 'scale' to avoid this warning.\n",
      "  \"avoid this warning.\", FutureWarning)\n",
      "C:\\Users\\Abdul Hannan\\Anaconda3\\lib\\site-packages\\sklearn\\svm\\base.py:196: FutureWarning: The default value of gamma will change from 'auto' to 'scale' in version 0.22 to account better for unscaled features. Set gamma explicitly to 'auto' or 'scale' to avoid this warning.\n",
      "  \"avoid this warning.\", FutureWarning)\n",
      "C:\\Users\\Abdul Hannan\\Anaconda3\\lib\\site-packages\\sklearn\\svm\\base.py:196: FutureWarning: The default value of gamma will change from 'auto' to 'scale' in version 0.22 to account better for unscaled features. Set gamma explicitly to 'auto' or 'scale' to avoid this warning.\n",
      "  \"avoid this warning.\", FutureWarning)\n"
     ]
    },
    {
     "name": "stdout",
     "output_type": "stream",
     "text": [
      "[0.53608247 0.53608247 0.53608247 0.53608247 0.54166667 0.54166667\n",
      " 0.53684211 0.53684211 0.53684211 0.53684211]\n",
      "0.5375031651293182\n"
     ]
    },
    {
     "name": "stderr",
     "output_type": "stream",
     "text": [
      "C:\\Users\\Abdul Hannan\\Anaconda3\\lib\\site-packages\\sklearn\\svm\\base.py:196: FutureWarning: The default value of gamma will change from 'auto' to 'scale' in version 0.22 to account better for unscaled features. Set gamma explicitly to 'auto' or 'scale' to avoid this warning.\n",
      "  \"avoid this warning.\", FutureWarning)\n"
     ]
    }
   ],
   "source": [
    "svc_model = SVC(kernel='sigmoid')\n",
    "scores = cross_val_score(svc_model,X,y, cv=10)\n",
    "print(scores)\n",
    "print(scores.mean())"
   ]
  },
  {
   "cell_type": "code",
   "execution_count": null,
   "metadata": {},
   "outputs": [
    {
     "name": "stderr",
     "output_type": "stream",
     "text": [
      "C:\\Users\\Abdul Hannan\\Anaconda3\\lib\\site-packages\\sklearn\\svm\\base.py:196: FutureWarning: The default value of gamma will change from 'auto' to 'scale' in version 0.22 to account better for unscaled features. Set gamma explicitly to 'auto' or 'scale' to avoid this warning.\n",
      "  \"avoid this warning.\", FutureWarning)\n"
     ]
    }
   ],
   "source": [
    "svc_model = SVC(kernel='poly')\n",
    "scores = cross_val_score(svc_model,scaled_features,target, cv=10)\n",
    "print(scores)\n",
    "print(scores.mean())"
   ]
  },
  {
   "cell_type": "markdown",
   "metadata": {},
   "source": [
    "## Logistic Regression\n",
    "\n",
    "We've tried all these fancy techniques, but fundamentally this is just a binary classification problem. Try Logisitic Regression, which is a simple way to tackling this sort of thing."
   ]
  },
  {
   "cell_type": "code",
   "execution_count": 22,
   "metadata": {},
   "outputs": [],
   "source": [
    "from sklearn.linear_model import LogisticRegression\n",
    "lm=LogisticRegression(solver='lbfgs')\n",
    "model=lm.fit(X_train,y_train)\n",
    "predict=lm.predict(X_test)"
   ]
  },
  {
   "cell_type": "code",
   "execution_count": 23,
   "metadata": {},
   "outputs": [
    {
     "name": "stdout",
     "output_type": "stream",
     "text": [
      "[[98 30]\n",
      " [22 90]]\n",
      "0.7833333333333333\n",
      "\n",
      "\n",
      "              precision    recall  f1-score   support\n",
      "\n",
      "           0       0.82      0.77      0.79       128\n",
      "           1       0.75      0.80      0.78       112\n",
      "\n",
      "   micro avg       0.78      0.78      0.78       240\n",
      "   macro avg       0.78      0.78      0.78       240\n",
      "weighted avg       0.79      0.78      0.78       240\n",
      "\n"
     ]
    }
   ],
   "source": [
    "results = confusion_matrix(y_test, predict)\n",
    "accuracy=accuracy_score(y_test, predict)\n",
    "report=classification_report(y_test, predict) \n",
    "print(results)\n",
    "print(accuracy)\n",
    "print('\\n')\n",
    "print(report)"
   ]
  },
  {
   "cell_type": "code",
   "execution_count": null,
   "metadata": {},
   "outputs": [],
   "source": []
  },
  {
   "cell_type": "markdown",
   "metadata": {},
   "source": [
    "## Neural Networks\n",
    "\n",
    "As a bonus challenge, let's see if an artificial neural network can do even better. You can use Keras to set up a neural network with 1 binary output neuron and see how it performs. Don't be afraid to run a large number of epochs to train the model if necessary."
   ]
  },
  {
   "cell_type": "code",
   "execution_count": 24,
   "metadata": {},
   "outputs": [],
   "source": [
    "import tensorflow as tf\n",
    "model=tf.keras.models.Sequential()\n"
   ]
  },
  {
   "cell_type": "code",
   "execution_count": 25,
   "metadata": {},
   "outputs": [
    {
     "name": "stdout",
     "output_type": "stream",
     "text": [
      "WARNING:tensorflow:Falling back from v2 loop because of error: Failed to find data adapter that can handle input: <class 'pandas.core.frame.DataFrame'>, <class 'NoneType'>\n",
      "Train on 720 samples\n",
      "Epoch 1/100\n",
      "720/720 - 0s - loss: 7.4995 - accuracy: 0.4611\n",
      "Epoch 2/100\n",
      "720/720 - 0s - loss: 7.1703 - accuracy: 0.4611\n",
      "Epoch 3/100\n",
      "720/720 - 0s - loss: 6.6555 - accuracy: 0.4611\n",
      "Epoch 4/100\n",
      "720/720 - 0s - loss: 5.8657 - accuracy: 0.4611\n",
      "Epoch 5/100\n",
      "720/720 - 0s - loss: 4.9508 - accuracy: 0.4611\n",
      "Epoch 6/100\n",
      "720/720 - 0s - loss: 4.1277 - accuracy: 0.4611\n",
      "Epoch 7/100\n",
      "720/720 - 0s - loss: 3.4295 - accuracy: 0.4611\n",
      "Epoch 8/100\n",
      "720/720 - 0s - loss: 2.8293 - accuracy: 0.4611\n",
      "Epoch 9/100\n",
      "720/720 - 0s - loss: 2.3211 - accuracy: 0.4611\n",
      "Epoch 10/100\n",
      "720/720 - 0s - loss: 1.8778 - accuracy: 0.4611\n",
      "Epoch 11/100\n",
      "720/720 - 0s - loss: 1.5008 - accuracy: 0.4611\n",
      "Epoch 12/100\n",
      "720/720 - 0s - loss: 1.2053 - accuracy: 0.4653\n",
      "Epoch 13/100\n",
      "720/720 - 0s - loss: 0.9833 - accuracy: 0.4903\n",
      "Epoch 14/100\n",
      "720/720 - 0s - loss: 0.8440 - accuracy: 0.5125\n",
      "Epoch 15/100\n",
      "720/720 - 0s - loss: 0.7663 - accuracy: 0.5194\n",
      "Epoch 16/100\n",
      "720/720 - 0s - loss: 0.7263 - accuracy: 0.5333\n",
      "Epoch 17/100\n",
      "720/720 - 0s - loss: 0.7080 - accuracy: 0.5556\n",
      "Epoch 18/100\n",
      "720/720 - 0s - loss: 0.6988 - accuracy: 0.5681\n",
      "Epoch 19/100\n",
      "720/720 - 0s - loss: 0.6946 - accuracy: 0.5708\n",
      "Epoch 20/100\n",
      "720/720 - 0s - loss: 0.6916 - accuracy: 0.5639\n",
      "Epoch 21/100\n",
      "720/720 - 0s - loss: 0.6893 - accuracy: 0.5681\n",
      "Epoch 22/100\n",
      "720/720 - 0s - loss: 0.6873 - accuracy: 0.5667\n",
      "Epoch 23/100\n",
      "720/720 - 0s - loss: 0.6855 - accuracy: 0.5694\n",
      "Epoch 24/100\n",
      "720/720 - 0s - loss: 0.6838 - accuracy: 0.5736\n",
      "Epoch 25/100\n",
      "720/720 - 0s - loss: 0.6822 - accuracy: 0.5750\n",
      "Epoch 26/100\n",
      "720/720 - 0s - loss: 0.6803 - accuracy: 0.5778\n",
      "Epoch 27/100\n",
      "720/720 - 0s - loss: 0.6785 - accuracy: 0.5819\n",
      "Epoch 28/100\n",
      "720/720 - 0s - loss: 0.6769 - accuracy: 0.5889\n",
      "Epoch 29/100\n",
      "720/720 - 0s - loss: 0.6744 - accuracy: 0.5917\n",
      "Epoch 30/100\n",
      "720/720 - 0s - loss: 0.6724 - accuracy: 0.5958\n",
      "Epoch 31/100\n",
      "720/720 - 0s - loss: 0.6704 - accuracy: 0.5986\n",
      "Epoch 32/100\n",
      "720/720 - 0s - loss: 0.6682 - accuracy: 0.6028\n",
      "Epoch 33/100\n",
      "720/720 - 0s - loss: 0.6654 - accuracy: 0.6056\n",
      "Epoch 34/100\n",
      "720/720 - 0s - loss: 0.6634 - accuracy: 0.6181\n",
      "Epoch 35/100\n",
      "720/720 - 0s - loss: 0.6611 - accuracy: 0.6222\n",
      "Epoch 36/100\n",
      "720/720 - 0s - loss: 0.6586 - accuracy: 0.6292\n",
      "Epoch 37/100\n",
      "720/720 - 0s - loss: 0.6563 - accuracy: 0.6306\n",
      "Epoch 38/100\n",
      "720/720 - 0s - loss: 0.6536 - accuracy: 0.6278\n",
      "Epoch 39/100\n",
      "720/720 - 0s - loss: 0.6509 - accuracy: 0.6375\n",
      "Epoch 40/100\n",
      "720/720 - 0s - loss: 0.6484 - accuracy: 0.6444\n",
      "Epoch 41/100\n",
      "720/720 - 0s - loss: 0.6456 - accuracy: 0.6486\n",
      "Epoch 42/100\n",
      "720/720 - 0s - loss: 0.6430 - accuracy: 0.6583\n",
      "Epoch 43/100\n",
      "720/720 - 0s - loss: 0.6401 - accuracy: 0.6653\n",
      "Epoch 44/100\n",
      "720/720 - 0s - loss: 0.6375 - accuracy: 0.6653\n",
      "Epoch 45/100\n",
      "720/720 - 0s - loss: 0.6350 - accuracy: 0.6694\n",
      "Epoch 46/100\n",
      "720/720 - 0s - loss: 0.6321 - accuracy: 0.6764\n",
      "Epoch 47/100\n",
      "720/720 - 0s - loss: 0.6294 - accuracy: 0.6778\n",
      "Epoch 48/100\n",
      "720/720 - 0s - loss: 0.6268 - accuracy: 0.6792\n",
      "Epoch 49/100\n",
      "720/720 - 0s - loss: 0.6244 - accuracy: 0.6847\n",
      "Epoch 50/100\n",
      "720/720 - 0s - loss: 0.6219 - accuracy: 0.6889\n",
      "Epoch 51/100\n",
      "720/720 - 0s - loss: 0.6193 - accuracy: 0.6917\n",
      "Epoch 52/100\n",
      "720/720 - 0s - loss: 0.6170 - accuracy: 0.6986\n",
      "Epoch 53/100\n",
      "720/720 - 0s - loss: 0.6148 - accuracy: 0.6958\n",
      "Epoch 54/100\n",
      "720/720 - 0s - loss: 0.6121 - accuracy: 0.7111\n",
      "Epoch 55/100\n",
      "720/720 - 0s - loss: 0.6096 - accuracy: 0.7236\n",
      "Epoch 56/100\n",
      "720/720 - 0s - loss: 0.6078 - accuracy: 0.7167\n",
      "Epoch 57/100\n",
      "720/720 - 0s - loss: 0.6057 - accuracy: 0.7375\n",
      "Epoch 58/100\n",
      "720/720 - 0s - loss: 0.6028 - accuracy: 0.7431\n",
      "Epoch 59/100\n",
      "720/720 - 0s - loss: 0.6003 - accuracy: 0.7472\n",
      "Epoch 60/100\n",
      "720/720 - 0s - loss: 0.5987 - accuracy: 0.7333\n",
      "Epoch 61/100\n",
      "720/720 - 0s - loss: 0.5960 - accuracy: 0.7486\n",
      "Epoch 62/100\n",
      "720/720 - 0s - loss: 0.5939 - accuracy: 0.7653\n",
      "Epoch 63/100\n",
      "720/720 - 0s - loss: 0.5923 - accuracy: 0.7528\n",
      "Epoch 64/100\n",
      "720/720 - 0s - loss: 0.5899 - accuracy: 0.7528\n",
      "Epoch 65/100\n",
      "720/720 - 0s - loss: 0.5871 - accuracy: 0.7611\n",
      "Epoch 66/100\n",
      "720/720 - 0s - loss: 0.5854 - accuracy: 0.7639\n",
      "Epoch 67/100\n",
      "720/720 - 0s - loss: 0.5841 - accuracy: 0.7625\n",
      "Epoch 68/100\n",
      "720/720 - 0s - loss: 0.5809 - accuracy: 0.7708\n",
      "Epoch 69/100\n",
      "720/720 - 0s - loss: 0.5792 - accuracy: 0.7736\n",
      "Epoch 70/100\n",
      "720/720 - 0s - loss: 0.5771 - accuracy: 0.7736\n",
      "Epoch 71/100\n",
      "720/720 - 0s - loss: 0.5754 - accuracy: 0.7639\n",
      "Epoch 72/100\n",
      "720/720 - 0s - loss: 0.5733 - accuracy: 0.7722\n",
      "Epoch 73/100\n",
      "720/720 - 0s - loss: 0.5712 - accuracy: 0.7764\n",
      "Epoch 74/100\n",
      "720/720 - 0s - loss: 0.5696 - accuracy: 0.7722\n",
      "Epoch 75/100\n",
      "720/720 - 0s - loss: 0.5676 - accuracy: 0.7694\n",
      "Epoch 76/100\n",
      "720/720 - 0s - loss: 0.5660 - accuracy: 0.7806\n",
      "Epoch 77/100\n",
      "720/720 - 0s - loss: 0.5641 - accuracy: 0.7792\n",
      "Epoch 78/100\n",
      "720/720 - 0s - loss: 0.5622 - accuracy: 0.7764\n",
      "Epoch 79/100\n",
      "720/720 - 0s - loss: 0.5607 - accuracy: 0.7792\n",
      "Epoch 80/100\n",
      "720/720 - 0s - loss: 0.5590 - accuracy: 0.7806\n",
      "Epoch 81/100\n",
      "720/720 - 0s - loss: 0.5571 - accuracy: 0.7819\n",
      "Epoch 82/100\n",
      "720/720 - 0s - loss: 0.5564 - accuracy: 0.7847\n",
      "Epoch 83/100\n",
      "720/720 - 0s - loss: 0.5540 - accuracy: 0.7778\n",
      "Epoch 84/100\n",
      "720/720 - 0s - loss: 0.5526 - accuracy: 0.7806\n",
      "Epoch 85/100\n",
      "720/720 - 0s - loss: 0.5510 - accuracy: 0.7792\n",
      "Epoch 86/100\n",
      "720/720 - 0s - loss: 0.5492 - accuracy: 0.7847\n",
      "Epoch 87/100\n",
      "720/720 - 0s - loss: 0.5477 - accuracy: 0.7819\n",
      "Epoch 88/100\n",
      "720/720 - 0s - loss: 0.5463 - accuracy: 0.7847\n",
      "Epoch 89/100\n",
      "720/720 - 0s - loss: 0.5453 - accuracy: 0.7764\n",
      "Epoch 90/100\n",
      "720/720 - 0s - loss: 0.5436 - accuracy: 0.7861\n",
      "Epoch 91/100\n",
      "720/720 - 0s - loss: 0.5419 - accuracy: 0.7861\n",
      "Epoch 92/100\n",
      "720/720 - 0s - loss: 0.5407 - accuracy: 0.7819\n",
      "Epoch 93/100\n",
      "720/720 - 0s - loss: 0.5395 - accuracy: 0.7833\n",
      "Epoch 94/100\n",
      "720/720 - 0s - loss: 0.5380 - accuracy: 0.7889\n",
      "Epoch 95/100\n",
      "720/720 - 0s - loss: 0.5366 - accuracy: 0.7847\n",
      "Epoch 96/100\n",
      "720/720 - 0s - loss: 0.5354 - accuracy: 0.7833\n",
      "Epoch 97/100\n",
      "720/720 - 0s - loss: 0.5346 - accuracy: 0.7819\n",
      "Epoch 98/100\n",
      "720/720 - 0s - loss: 0.5330 - accuracy: 0.7861\n",
      "Epoch 99/100\n",
      "720/720 - 0s - loss: 0.5316 - accuracy: 0.7861\n",
      "Epoch 100/100\n",
      "720/720 - 0s - loss: 0.5308 - accuracy: 0.7861\n"
     ]
    },
    {
     "data": {
      "text/plain": [
       "<tensorflow.python.keras.callbacks.History at 0x2228a273898>"
      ]
     },
     "execution_count": 25,
     "metadata": {},
     "output_type": "execute_result"
    }
   ],
   "source": [
    "model.add(tf.keras.layers.Dense(6,input_dim=4,activation=tf.nn.relu))\n",
    "model.add(tf.keras.layers.Dense(1,activation=tf.nn.sigmoid))\n",
    "model.compile(optimizer='adam',loss='binary_crossentropy',metrics=['accuracy'])\n",
    "model.fit(X_train,y_train,epochs=100,verbose=2)"
   ]
  },
  {
   "cell_type": "code",
   "execution_count": 26,
   "metadata": {},
   "outputs": [
    {
     "name": "stdout",
     "output_type": "stream",
     "text": [
      "WARNING:tensorflow:Falling back from v2 loop because of error: Failed to find data adapter that can handle input: <class 'pandas.core.frame.DataFrame'>, <class 'NoneType'>\n",
      "240/240 [==============================] - 0s 806us/sample - loss: 0.5332 - accuracy: 0.7792\n",
      "Validation Loss: 0.5332460045814514\n",
      "Validation Accuracy: 0.77916664\n"
     ]
    }
   ],
   "source": [
    "val_loss,val_accuracy=model.evaluate(X_test,y_test)\n",
    "print('Validation Loss:',val_loss)\n",
    "print('Validation Accuracy:',val_accuracy)"
   ]
  },
  {
   "cell_type": "code",
   "execution_count": null,
   "metadata": {},
   "outputs": [],
   "source": []
  },
  {
   "cell_type": "markdown",
   "metadata": {
    "collapsed": true
   },
   "source": [
    "## Do we have a winner?\n",
    "\n",
    "Which model, and which choice of hyperparameters, performed the best? Feel free to share your results!"
   ]
  },
  {
   "cell_type": "code",
   "execution_count": null,
   "metadata": {
    "collapsed": true
   },
   "outputs": [],
   "source": []
  }
 ],
 "metadata": {
  "kernelspec": {
   "display_name": "Python 3",
   "language": "python",
   "name": "python3"
  },
  "language_info": {
   "codemirror_mode": {
    "name": "ipython",
    "version": 3
   },
   "file_extension": ".py",
   "mimetype": "text/x-python",
   "name": "python",
   "nbconvert_exporter": "python",
   "pygments_lexer": "ipython3",
   "version": "3.7.3"
  }
 },
 "nbformat": 4,
 "nbformat_minor": 2
}
